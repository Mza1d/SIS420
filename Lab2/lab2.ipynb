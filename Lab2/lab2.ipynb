{
 "cells": [
  {
   "cell_type": "code",
   "execution_count": 7,
   "metadata": {},
   "outputs": [],
   "source": [
    "\"\"\"\n",
    "SIS - 420   \n",
    "    Anarata Diaz Mario\n",
    "\"\"\"\n",
    "# datos = estado\n",
    "class Nodo:\n",
    "    def __init__(self, datos, hijo=None):\n",
    "        self.datos = datos\n",
    "        self.hijos = []\n",
    "        self.padre = None\n",
    "        self.costo = None\n",
    "        self.set_hijo(hijo)\n",
    "        \n",
    "    def set_hijo(self, hijo):\n",
    "        if (hijo is not None):\n",
    "            self.hijos.append(hijo)\n",
    "            if self.hijos is not None:\n",
    "                for h in self.hijos:\n",
    "                    h.padre = self\n",
    "                \n",
    "    def get_hijos(self):\n",
    "        return self.hijos\n",
    "    \n",
    "    def set_padre(self, padre):\n",
    "        self.padre = padre\n",
    "        \n",
    "    def get_padre(self):\n",
    "        return self.padre\n",
    "\n",
    "    def set_datos(self, datos):\n",
    "        self.datos = datos\n",
    "    \n",
    "    def get_datos(self):\n",
    "        return self.datos\n",
    "    \n",
    "    def set_costo(self, costo):\n",
    "        self.costo = costo\n",
    "        \n",
    "    def get_costo(self):\n",
    "        return self.costo\n",
    "    \n",
    "    def equal(self, nodo):\n",
    "        if self.get_datos() == nodo.get_datos():\n",
    "            return True\n",
    "        else:\n",
    "            return False\n",
    "    \n",
    "    def en_lista(self, lista_nodos):\n",
    "        enlistado = False\n",
    "        for n in lista_nodos:\n",
    "            if self.equal(n):\n",
    "                enlistado = True\n",
    "        return enlistado\n",
    "    \n",
    "    def __str__(self):\n",
    "        return str(self.get_datos())"
   ]
  },
  {
   "cell_type": "code",
   "execution_count": 8,
   "metadata": {},
   "outputs": [],
   "source": [
    "def bpa(estado_inicio, estado_solucion):\n",
    "    resuelto = False\n",
    "    nodos_visitados = []\n",
    "    nodos_frontera = []\n",
    "    nodo_inicio = Nodo(estado_inicio)\n",
    "    nodos_frontera.append(nodo_inicio)\n",
    "\n",
    "    while resuelto == False and len(nodos_frontera) != 0:\n",
    "        nodo_actual = nodos_frontera.pop(0)\n",
    "        nodos_visitados.append(nodo_actual)\n",
    "        if nodo_actual.get_datos() == estado_solucion:\n",
    "            resuelto = True\n",
    "            return nodo_actual\n",
    "        else:\n",
    "            \n",
    "            #El tiempo para los numeros 1,2,3,4 es de 0.1s\n",
    "            #El tiempo para los numeros 1,2,3,4,5 es de 0.2s\n",
    "            #El tiempo para los numeros 1,2,3,4,5,6,7 es de 1 min 30s\n",
    "            # A partir de 8 numeros en adelante la busqueda requiere mas tiempo y tambien depende del procesador de la máquina\n",
    "            # El se puede solucionar con busqueda heuristica\n",
    "            for i in range(9): \n",
    "                hijo1_datos = nodo_actual.get_datos().copy()\n",
    "                temp = hijo1_datos[i]\n",
    "                hijo1_datos[i] = hijo1_datos[i+1]\n",
    "                hijo1_datos[i+1] = temp\n",
    "                hijo1 = Nodo(hijo1_datos)\n",
    "                \n",
    "                if not hijo1.en_lista(nodos_visitados) and not hijo1.en_lista(nodos_frontera):\n",
    "                    nodo_actual.set_hijo(hijo1)\n",
    "                    nodos_frontera.append(hijo1)"
   ]
  },
  {
   "cell_type": "code",
   "execution_count": 10,
   "metadata": {},
   "outputs": [
    {
     "name": "stdout",
     "output_type": "stream",
     "text": [
      "[2, 1, 3, 4, 5, 7, 6, 8, 10, 9]\n",
      "[1, 2, 3, 4, 5, 7, 6, 8, 10, 9]\n",
      "[1, 2, 3, 4, 5, 6, 7, 8, 10, 9]\n",
      "[1, 2, 3, 4, 5, 6, 7, 8, 9, 10]\n"
     ]
    }
   ],
   "source": [
    "if __name__ == \"__main__\":\n",
    "    estado_inicial = [2, 1, 3, 4, 5, 7, 6, 8, 10, 9] # 7, 6, 5, 4, 3, 2, 1\n",
    "    solucion = [1, 2, 3, 4, 5, 6, 7, 8, 9, 10]\n",
    "    nodo_solucion = bpa(estado_inicial, solucion)\n",
    "\n",
    "    # mostrar resultado\n",
    "    resultado = []\n",
    "    nodo_actual = nodo_solucion\n",
    "    while nodo_actual.get_padre() is not None:\n",
    "        resultado.append(nodo_actual.get_datos())\n",
    "        nodo_actual = nodo_actual.get_padre()\n",
    "\n",
    "    resultado.append(estado_inicial)\n",
    "    resultado.reverse()\n",
    "    for i in resultado:\n",
    "        print(i)"
   ]
  }
 ],
 "metadata": {
  "kernelspec": {
   "display_name": "Python 3.10.4 64-bit",
   "language": "python",
   "name": "python3"
  },
  "language_info": {
   "codemirror_mode": {
    "name": "ipython",
    "version": 3
   },
   "file_extension": ".py",
   "mimetype": "text/x-python",
   "name": "python",
   "nbconvert_exporter": "python",
   "pygments_lexer": "ipython3",
   "version": "3.10.4"
  },
  "orig_nbformat": 4,
  "vscode": {
   "interpreter": {
    "hash": "4fc575347efa219798fdc80e72f18537acafed02733d7815abe9dda575f05009"
   }
  }
 },
 "nbformat": 4,
 "nbformat_minor": 2
}
