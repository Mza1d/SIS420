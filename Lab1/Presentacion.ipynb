{
 "cells": [
  {
   "cell_type": "code",
   "execution_count": 1,
   "metadata": {},
   "outputs": [
    {
     "name": "stdout",
     "output_type": "stream",
     "text": [
      "\t\tHola \n",
      " Bienvenidos a mi perfil\n"
     ]
    }
   ],
   "source": [
    "def saludo():\n",
    "    print(\"\\t\\tHola \\n Bienvenidos a mi perfil\")\n",
    "saludo()"
   ]
  },
  {
   "cell_type": "code",
   "execution_count": 11,
   "metadata": {},
   "outputs": [
    {
     "name": "stdout",
     "output_type": "stream",
     "text": [
      "SELECCIONE UNA DE LAS OPCIONES\n",
      "S -> Para continuar \n",
      "N -> Para salir\n",
      "---------- MI PRESENTACIÓN ----------\n",
      "Apellidos:  Anarata Diaz\n",
      "Nombres:  Mario\n",
      "Carrera:  Ing. Sistemas\n",
      "Nacionalidad:  Bolivia\n",
      "Telefono:  61884698\n",
      "------------- SIS - 420 ------------\n"
     ]
    }
   ],
   "source": [
    "def perfil():\n",
    "    print(\"SELECCIONE UNA DE LAS OPCIONES\")\n",
    "    print(\"S -> Para continuar \\nN -> Para salir\")\n",
    "    respuesta = input(\"¿Desea continuar o terminar el programa?: \")\n",
    "    Apellidos = \"Anarata Diaz\"\n",
    "    Nombre = \"Mario\"\n",
    "    Nacionalidad = \"Bolivia\"\n",
    "    Carrera = \"Ing. Sistemas\"\n",
    "    Telefono = \"61884698\"\n",
    "    if respuesta == 'S' or respuesta == 's':\n",
    "        print('---------- MI PRESENTACIÓN ----------')\n",
    "        print('Apellidos: ',Apellidos)\n",
    "        print('Nombres: ',Nombre)\n",
    "        print('Carrera: ',Carrera)\n",
    "        print('Nacionalidad: ',Nacionalidad)\n",
    "        print('Telefono: ',Telefono)\n",
    "        print('------------- SIS - 420 ------------')\n",
    "    if respuesta == 'N' or respuesta == 'n':\n",
    "        print(\"Gracias por su visita\")\n",
    "perfil()"
   ]
  }
 ],
 "metadata": {
  "kernelspec": {
   "display_name": "Python 3.10.4 64-bit",
   "language": "python",
   "name": "python3"
  },
  "language_info": {
   "codemirror_mode": {
    "name": "ipython",
    "version": 3
   },
   "file_extension": ".py",
   "mimetype": "text/x-python",
   "name": "python",
   "nbconvert_exporter": "python",
   "pygments_lexer": "ipython3",
   "version": "3.10.4"
  },
  "orig_nbformat": 4,
  "vscode": {
   "interpreter": {
    "hash": "4fc575347efa219798fdc80e72f18537acafed02733d7815abe9dda575f05009"
   }
  }
 },
 "nbformat": 4,
 "nbformat_minor": 2
}
