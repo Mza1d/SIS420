{
 "cells": [
  {
   "cell_type": "code",
   "execution_count": 6,
   "metadata": {},
   "outputs": [
    {
     "name": "stdout",
     "output_type": "stream",
     "text": [
      "[[' ', ' ', '*', ' ', ' ', ' ', ' '], [' ', ' ', ' ', ' ', ' ', ' ', ' ']]\n"
     ]
    }
   ],
   "source": [
    "import random\n",
    "\n",
    "\n",
    "laberinto = [[' ',' ','*',' ',' ',' ',' '],[' ',' ',' ',' ',' ',' ',' ']]\n",
    "print(laberinto)\n",
    "#for fila in laberinto:\n",
    "#    print(laberinto)\n",
    "\n",
    "num_fila = input(\"digite un numero\");\n",
    "num_columna = input(\"digite un numero\")\n",
    "num_paredes = input(\"digite un numero de paredes\")\n",
    "num_espacio = num_fila*num_columna\n",
    "\n",
    "def hayespacio(laberinto, num_fila, num_columna):\n",
    "    num_espacio = 0\n",
    "    if num_fila > 0 and laberinto[num_fila-1][num_columna]==1:\n",
    "        \n",
    "\n",
    "\n",
    "\n"
   ]
  },
  {
   "cell_type": "code",
   "execution_count": null,
   "metadata": {},
   "outputs": [],
   "source": [
    "laberinto = []\n",
    "for i in range(1, num_fila):\n",
    "    for j in range(0, num_columna):\n",
    "\n"
   ]
  },
  {
   "cell_type": "code",
   "execution_count": 13,
   "metadata": {},
   "outputs": [
    {
     "name": "stdout",
     "output_type": "stream",
     "text": [
      "***************\n",
      "*     *   *   *\n",
      "* ***** * *** *\n",
      "*     * * *   *\n",
      "* *** *** * * *\n",
      "*   *   * * * *\n",
      "*** * *** * ***\n",
      "*   *   * *   *\n",
      "* ***** * *** *\n",
      "*     *       *\n",
      "***************\n"
     ]
    }
   ],
   "source": [
    "from random import shuffle, randint     # Números pseudoaleatorios\n",
    "from itertools import product           # Producto cartesiano\n",
    "\n",
    "def laberinto(m, n):\n",
    "    def vecinos(i, j):                  # Conjunto de celdas aledañas a (i, j)\n",
    "        if 0 < i: yield i - 1, j\n",
    "        if i < m - 1: yield i + 1, j\n",
    "        if 0 < j: yield i, j - 1\n",
    "        if j < n - 1: yield i, j + 1\n",
    "\n",
    "    def visitar(i, j):                  # Alg. de recorrido en profundidad:\n",
    "        X.add((i, j))                   # Marcar celda actual como visitada\n",
    "        N = list(vecinos(i, j)); shuffle(N)  # Desordenar celdas vecinas\n",
    "        for h, k in N:                  # Para cada celda vecina\n",
    "            if (h, k) in X: continue    # ...que no haya sido visitada:\n",
    "            A[i + h + 1][j + k + 1] = ' '  # Tumbar el muro que las separa\n",
    "            visitar(h, k)               # Visitar vecina recursivamente\n",
    "\n",
    "    A = [['*']*(2*n + 1) for i in range(2*m + 1)]  # Tablero\n",
    "    for i, j in product(range(1, 2*m + 1, 2), range(1, 2*n + 1, 2)):\n",
    "        A[i][j] = ' '                   # Poner celdas blancas\n",
    "    X = set()                           # Conjunto de celdas visitadas\n",
    "    visitar(randint(0, m - 1), randint(0, n - 1))  # Inicio en celda aleatoria\n",
    "    return('\\n'.join(''.join(fila) for fila in A))  # Unir símbolos en un str\n",
    "\n",
    "print(laberinto(5, 7))"
   ]
  }
 ],
 "metadata": {
  "kernelspec": {
   "display_name": "Python 3.10.4 64-bit",
   "language": "python",
   "name": "python3"
  },
  "language_info": {
   "codemirror_mode": {
    "name": "ipython",
    "version": 3
   },
   "file_extension": ".py",
   "mimetype": "text/x-python",
   "name": "python",
   "nbconvert_exporter": "python",
   "pygments_lexer": "ipython3",
   "version": "3.10.4"
  },
  "orig_nbformat": 4,
  "vscode": {
   "interpreter": {
    "hash": "4fc575347efa219798fdc80e72f18537acafed02733d7815abe9dda575f05009"
   }
  }
 },
 "nbformat": 4,
 "nbformat_minor": 2
}
