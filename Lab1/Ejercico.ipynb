{
 "cells": [
  {
   "cell_type": "code",
   "execution_count": 2,
   "metadata": {},
   "outputs": [
    {
     "name": "stdout",
     "output_type": "stream",
     "text": [
      "[[' ', ' ', '*', ' ', ' ', ' ', ' '], [' ', ' ', ' ', ' ', ' ', ' ', ' ']]\n"
     ]
    }
   ],
   "source": [
    "import random\n",
    "\n",
    "laberinto = [[' ',' ','*',' ',' ',' ',' '],[' ',' ',' ',' ',' ',' ',' ']]\n",
    "print(laberinto)\n",
    "\n"
   ]
  },
  {
   "cell_type": "code",
   "execution_count": 3,
   "metadata": {},
   "outputs": [],
   "source": [
    "def crear_mapa_laberinto(numero_filas, numero_columnas, numero_paredes, numero_espacios):\n",
    "# Se crea un mapa lleno de paredes\n",
    "    mapa_laberinto = []\n",
    "    numero_paredes_generadas = 0\n",
    "    for fila in range(0, numero_filas):\n",
    "        fila_mapa_laberinto = []\n",
    "        for columna in range(0, numero_columnas):\n",
    "#             if (random.randrange(2) == 1 and numero_paredes_generadas < numero_paredes):\n",
    "#                 fila_mapa_laberinto.append('#')\n",
    "#                 numero_paredes_generadas += 1\n",
    "#             else:\n",
    "#                 fila_mapa_laberinto.append(' ')\n",
    "            fila_mapa_laberinto.append('#')\n",
    "        mapa_laberinto.append(fila_mapa_laberinto)\n",
    "        \n",
    "#Se ubica aleatoriamente un punto de inicio y a partir de ese punto se llenan espacios\n",
    "    numero_espacios_generados = 0\n",
    "    fila_posicion_actual = random.randrange(numero_filas)\n",
    "    columna_posicion_actual = random.randrange(numero_columnas)\n",
    "    mapa_laberinto[fila_posicion_actual][columna_posicion_actual] = ' '\n",
    "    numero_espacios_generados += 1\n",
    "\n",
    "    while numero_espacios_generados < numero_espacios:\n",
    "        direccion = random.randrange(4)\n",
    "        if direccion == 0 and fila_posicion_actual > 0:\n",
    "            fila_posicion_actual -= 1\n",
    "        elif direccion == 1 and fila_posicion_actual < numero_filas - 1:\n",
    "            fila_posicion_actual += 1\n",
    "        elif direccion == 2 and columna_posicion_actual > 0:\n",
    "            columna_posicion_actual -= 1\n",
    "        else:\n",
    "            if columna_posicion_actual < numero_columnas - 1:\n",
    "                columna_posicion_actual += 1\n",
    "            \n",
    "        if mapa_laberinto[fila_posicion_actual][columna_posicion_actual] == '#':\n",
    "            mapa_laberinto[fila_posicion_actual][columna_posicion_actual] = ' '\n",
    "            numero_espacios_generados += 1\n",
    "            \n",
    "    return mapa_laberinto"
   ]
  },
  {
   "cell_type": "code",
   "execution_count": 4,
   "metadata": {},
   "outputs": [],
   "source": [
    "# INGRESANDO DATOS POR TECLADOA\n",
    "numero_filas = int(input('Introduzca el número de filas del laberinto: '))\n",
    "numero_columnas = int(input('Introduzca el número de columnas del laberinto: '))\n",
    "numero_paredes = int(input('Introduzca el número de paredes del laberinto: '))\n",
    "numero_espacios = numero_filas * numero_columnas - numero_paredes"
   ]
  },
  {
   "cell_type": "code",
   "execution_count": 13,
   "metadata": {},
   "outputs": [
    {
     "name": "stdout",
     "output_type": "stream",
     "text": [
      "***************\n",
      "*     *   *   *\n",
      "* ***** * *** *\n",
      "*     * * *   *\n",
      "* *** *** * * *\n",
      "*   *   * * * *\n",
      "*** * *** * ***\n",
      "*   *   * *   *\n",
      "* ***** * *** *\n",
      "*     *       *\n",
      "***************\n"
     ]
    }
   ],
   "source": [
    "from random import shuffle, randint     # Números pseudoaleatorios\n",
    "from itertools import product           # Producto cartesiano\n",
    "\n",
    "def laberinto(m, n):\n",
    "    def vecinos(i, j):                  # Conjunto de celdas aledañas a (i, j)\n",
    "        if 0 < i: yield i - 1, j\n",
    "        if i < m - 1: yield i + 1, j\n",
    "        if 0 < j: yield i, j - 1\n",
    "        if j < n - 1: yield i, j + 1\n",
    "\n",
    "    def visitar(i, j):                  # Alg. de recorrido en profundidad:\n",
    "        X.add((i, j))                   # Marcar celda actual como visitada\n",
    "        N = list(vecinos(i, j)); shuffle(N)  # Desordenar celdas vecinas\n",
    "        for h, k in N:                  # Para cada celda vecina\n",
    "            if (h, k) in X: continue    # ...que no haya sido visitada:\n",
    "            A[i + h + 1][j + k + 1] = ' '  # Tumbar el muro que las separa\n",
    "            visitar(h, k)               # Visitar vecina recursivamente\n",
    "\n",
    "    A = [['*']*(2*n + 1) for i in range(2*m + 1)]  # Tablero\n",
    "    for i, j in product(range(1, 2*m + 1, 2), range(1, 2*n + 1, 2)):\n",
    "        A[i][j] = ' '                   # Poner celdas blancas\n",
    "    X = set()                           # Conjunto de celdas visitadas\n",
    "    visitar(randint(0, m - 1), randint(0, n - 1))  # Inicio en celda aleatoria\n",
    "    return('\\n'.join(''.join(fila) for fila in A))  # Unir símbolos en un str\n",
    "\n",
    "print(laberinto(5, 7))"
   ]
  },
  {
   "cell_type": "code",
   "execution_count": 5,
   "metadata": {},
   "outputs": [
    {
     "name": "stdout",
     "output_type": "stream",
     "text": [
      "['#', '#', '#', '#', '#']\n",
      "[' ', ' ', ' ', ' ', '#']\n",
      "[' ', ' ', ' ', ' ', ' ']\n",
      "[' ', ' ', ' ', ' ', ' ']\n",
      "[' ', ' ', ' ', ' ', ' ']\n",
      "['#', '#', ' ', ' ', ' ']\n",
      "['#', '#', ' ', ' ', ' ']\n"
     ]
    }
   ],
   "source": [
    "laberinto = crear_mapa_laberinto(numero_filas, numero_columnas, numero_paredes, numero_espacios)\n",
    "\n",
    "for fila_mapa_laberinto in laberinto:\n",
    "    print(fila_mapa_laberinto)"
   ]
  }
 ],
 "metadata": {
  "kernelspec": {
   "display_name": "Python 3.10.4 64-bit",
   "language": "python",
   "name": "python3"
  },
  "language_info": {
   "codemirror_mode": {
    "name": "ipython",
    "version": 3
   },
   "file_extension": ".py",
   "mimetype": "text/x-python",
   "name": "python",
   "nbconvert_exporter": "python",
   "pygments_lexer": "ipython3",
   "version": "3.10.4"
  },
  "orig_nbformat": 4,
  "vscode": {
   "interpreter": {
    "hash": "4fc575347efa219798fdc80e72f18537acafed02733d7815abe9dda575f05009"
   }
  }
 },
 "nbformat": 4,
 "nbformat_minor": 2
}
