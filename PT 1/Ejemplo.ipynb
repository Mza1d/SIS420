{
 "cells": [
  {
   "cell_type": "code",
   "execution_count": 17,
   "metadata": {},
   "outputs": [
    {
     "name": "stdout",
     "output_type": "stream",
     "text": [
      "\t CONJUNTOS \n",
      "{'Durazno', 'Pera', 'Manzana'}\n"
     ]
    }
   ],
   "source": [
    "print(\"\\t CONJUNTOS \")\n",
    "x = set([\"Manzana\",\"Pera\",\"Durazno\"])\n",
    "print(x)\n"
   ]
  },
  {
   "cell_type": "code",
   "execution_count": 20,
   "metadata": {},
   "outputs": [
    {
     "data": {
      "text/plain": [
       "3"
      ]
     },
     "execution_count": 20,
     "metadata": {},
     "output_type": "execute_result"
    }
   ],
   "source": [
    "len({'azul', 'verde', 'rojo'})"
   ]
  },
  {
   "cell_type": "code",
   "execution_count": 6,
   "metadata": {},
   "outputs": [
    {
     "name": "stdout",
     "output_type": "stream",
     "text": [
      "\t LISTAS\n",
      "RESULTADOS\n",
      " [1, 2, 3, 3, 4, 5, 7, 9, 0] \n",
      " [3, 'a', 8, 7.2, 'SIS-420']\n"
     ]
    }
   ],
   "source": [
    "print(\"\\t LISTAS\")\n",
    "numeros = [1,2,3,3,4,5,7,9,0]\n",
    "elementos = [3, 'a', 8, 7.2, 'SIS-420']\n",
    "print(\"RESULTADOS\\n\",numeros,\"\\n\",elementos)"
   ]
  },
  {
   "cell_type": "code",
   "execution_count": 8,
   "metadata": {},
   "outputs": [
    {
     "name": "stdout",
     "output_type": "stream",
     "text": [
      "VOCALES\n",
      " ['a', 'e', 'i', 'o', 'u']\n"
     ]
    }
   ],
   "source": [
    "vocales = list('aeiou')\n",
    "print(\"VOCALES\\n\",vocales)"
   ]
  },
  {
   "cell_type": "code",
   "execution_count": 16,
   "metadata": {},
   "outputs": [
    {
     "name": "stdout",
     "output_type": "stream",
     "text": [
      " -  azul\n",
      " -  blanco\n",
      " -  negro\n"
     ]
    }
   ],
   "source": [
    "colores = ['azul', 'blanco', 'negro']\n",
    "for color in colores:\n",
    "    print(\" - \",color)"
   ]
  }
 ],
 "metadata": {
  "kernelspec": {
   "display_name": "Python 3.10.4 64-bit",
   "language": "python",
   "name": "python3"
  },
  "language_info": {
   "codemirror_mode": {
    "name": "ipython",
    "version": 3
   },
   "file_extension": ".py",
   "mimetype": "text/x-python",
   "name": "python",
   "nbconvert_exporter": "python",
   "pygments_lexer": "ipython3",
   "version": "3.10.4"
  },
  "orig_nbformat": 4,
  "vscode": {
   "interpreter": {
    "hash": "4fc575347efa219798fdc80e72f18537acafed02733d7815abe9dda575f05009"
   }
  }
 },
 "nbformat": 4,
 "nbformat_minor": 2
}
