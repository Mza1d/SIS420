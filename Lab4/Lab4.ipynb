{
 "cells": [
  {
   "cell_type": "code",
   "execution_count": 1,
   "metadata": {},
   "outputs": [],
   "source": [
    "#Lab 4\n",
    "#Anarata Diaz Mario\n",
    "\n",
    "from LibNodo import Nodo\n",
    "import time\n",
    "import random"
   ]
  },
  {
   "cell_type": "code",
   "execution_count": 2,
   "metadata": {},
   "outputs": [],
   "source": [
    "def Comparar(nodo):\n",
    "    return nodo.get_costo()"
   ]
  },
  {
   "cell_type": "code",
   "execution_count": 3,
   "metadata": {},
   "outputs": [],
   "source": [
    "def nodos_hijos(nodo):\n",
    "    hijos = []\n",
    "    num = len(nodo.get_datos())\n",
    "    i = 0\n",
    "    costo = nodo.get_costo()\n",
    "    while i < num-1:\n",
    "        hijo_datos = nodo.get_datos().copy()\n",
    "        temp = hijo_datos[i]\n",
    "        hijo_datos[i] = hijo_datos[i+1]\n",
    "        hijo_datos[i+1] = temp\n",
    "        hijo = Nodo(hijo_datos)\n",
    "        #generar costo de 5 - 100\n",
    "        costo_h = random.randrange(5, 100)\n",
    "        hijo.set_costo(costo_h + costo)\n",
    "        nodo.set_hijo(hijo)\n",
    "        hijos.append(hijo)\n",
    "        i += 1\n",
    "    return hijos"
   ]
  },
  {
   "cell_type": "code",
   "execution_count": 4,
   "metadata": {},
   "outputs": [],
   "source": [
    "def BusquedaCostoU(estado_inicio, estado_solucion):\n",
    "    resuelto = False\n",
    "    nodos_visitados = []\n",
    "    nodos_frontera = []\n",
    "    nodo_inicio = Nodo(estado_inicio)\n",
    "    nodo_inicio.set_costo(0)\n",
    "    nodos_frontera.append(nodo_inicio)\n",
    "    \n",
    "    while resuelto == False and len(nodos_frontera) != 0:\n",
    "        nodos_frontera = sorted(nodos_frontera, key=Comparar, reverse=True)\n",
    "        #for i in nodos_frontera:\n",
    "        #    print(f'{i.get_datos()} costo -> {i.get_costo()}')\n",
    "        #print('--'*20)\n",
    "        \n",
    "        nodo_actual = nodos_frontera[0]\n",
    "        nodos_visitados.append(nodos_frontera.pop(0))\n",
    "        if nodo_actual.get_datos() == estado_solucion:\n",
    "            resuelto = True\n",
    "            return nodo_actual\n",
    "        else:\n",
    "            lista_hijos = nodos_hijos(nodo_actual)\n",
    "            for hijo in lista_hijos:\n",
    "                if not hijo.en_lista(nodos_visitados):\n",
    "                    if hijo.en_lista(nodos_frontera):\n",
    "                        for n in nodos_frontera:\n",
    "\n",
    "                            if n.equal(hijo) and n.get_costo() > hijo.get_costo():\n",
    "                                nodo_actual.set_hijo(hijo)\n",
    "                                nodos_frontera.append(hijo)\n",
    "                                nodos_frontera.remove(n)\n",
    "                    else:\n",
    "                        nodos_frontera.append(hijo)"
   ]
  },
  {
   "cell_type": "code",
   "execution_count": 6,
   "metadata": {},
   "outputs": [
    {
     "name": "stdout",
     "output_type": "stream",
     "text": [
      "\tSOLUCIÓN\n",
      "[5, 4, 3, 2, 1]\n",
      "[5, 4, 2, 3, 1]\n",
      "[5, 4, 2, 1, 3]\n",
      "[5, 2, 4, 1, 3]\n",
      "[5, 2, 1, 4, 3]\n",
      "[5, 2, 1, 3, 4]\n",
      "[2, 5, 1, 3, 4]\n",
      "[2, 5, 3, 1, 4]\n",
      "[2, 3, 5, 1, 4]\n",
      "[3, 2, 5, 1, 4]\n",
      "[3, 5, 2, 1, 4]\n",
      "[3, 5, 1, 2, 4]\n",
      "[5, 3, 1, 2, 4]\n",
      "[5, 1, 3, 2, 4]\n",
      "[5, 1, 3, 4, 2]\n",
      "[1, 5, 3, 4, 2]\n",
      "[1, 3, 5, 4, 2]\n",
      "[1, 3, 4, 5, 2]\n",
      "[3, 1, 4, 5, 2]\n",
      "[3, 1, 4, 2, 5]\n",
      "[3, 1, 2, 4, 5]\n",
      "[1, 3, 2, 4, 5]\n",
      "[1, 2, 3, 4, 5]\n",
      "\n",
      "El costo es de : 1535\n",
      "Tiempo de ejecucion: 0.059 seg.\n"
     ]
    }
   ],
   "source": [
    "if __name__ == \"__main__\":\n",
    "    cant = int(input(\"ingrese cantidad de números <=10\"))\n",
    "    estado_inicial = list(range(cant, 0, -1))\n",
    "    solucion = list(reversed(estado_inicial))\n",
    "    #estado_inicial = [6, 5, 4, 3, 2, 1]\n",
    "    #solucion = [1, 2, 3, 4, 5, 6]\n",
    "    inicio = time.time()\n",
    "    nodo_solucion = BusquedaCostoU(estado_inicial, solucion)\n",
    "    fin = time.time()\n",
    "    tiempo_total = fin - inicio\n",
    "    resultado = []\n",
    "    nodo_actual = nodo_solucion\n",
    "    while nodo_actual.get_padre() is not None:\n",
    "        resultado.append(nodo_actual.get_datos())\n",
    "        nodo_actual = nodo_actual.get_padre()\n",
    "\n",
    "    resultado.append(estado_inicial)\n",
    "    resultado.reverse()\n",
    "\n",
    "    print('\\tSOLUCIÓN')\n",
    "    for i in resultado:\n",
    "        print(i)\n",
    "    print(f'\\nEl costo es de : {nodo_solucion.get_costo()}')\n",
    "    if tiempo_total < 60:\n",
    "        print(f'Tiempo de ejecucion: {round(tiempo_total,3)} seg.')\n",
    "    else:\n",
    "        aux = tiempo_total/60\n",
    "        s = int(tiempo_total%60)\n",
    "        m = int(aux%60)\n",
    "        h = int(aux/60)\n",
    "        print(f'Tiempo de ejecucion: {h:02d} hr {m:02d} min {s:02d} seg')\n"
   ]
  }
 ],
 "metadata": {
  "kernelspec": {
   "display_name": "Python 3.10.4 64-bit",
   "language": "python",
   "name": "python3"
  },
  "language_info": {
   "codemirror_mode": {
    "name": "ipython",
    "version": 3
   },
   "file_extension": ".py",
   "mimetype": "text/x-python",
   "name": "python",
   "nbconvert_exporter": "python",
   "pygments_lexer": "ipython3",
   "version": "3.10.4"
  },
  "orig_nbformat": 4,
  "vscode": {
   "interpreter": {
    "hash": "4fc575347efa219798fdc80e72f18537acafed02733d7815abe9dda575f05009"
   }
  }
 },
 "nbformat": 4,
 "nbformat_minor": 2
}
