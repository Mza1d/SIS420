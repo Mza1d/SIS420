{
 "cells": [
  {
   "cell_type": "code",
   "execution_count": 1,
   "metadata": {},
   "outputs": [],
   "source": [
    "class Nodo:\n",
    "    def __init__(self, datos, hijo=None):\n",
    "        self.datos = datos\n",
    "        self.hijos = []\n",
    "        self.padre = None\n",
    "        self.costo = None\n",
    "        self.set_hijo(hijo)\n",
    "\n",
    "    def set_hijo(self, hijo):\n",
    "        if (hijo is not None):\n",
    "            self.hijos.append(hijo)\n",
    "            if self.hijos is not None:\n",
    "                for h in self.hijos:\n",
    "                    h.padre = self\n",
    "\n",
    "    def get_hijos(self):\n",
    "        return self.hijos\n",
    "\n",
    "    def set_padre(self, padre):\n",
    "        self.padre = padre\n",
    "\n",
    "    def get_padre(self):\n",
    "        return self.padre\n",
    "\n",
    "    def set_datos(self, datos):\n",
    "        self.datos = datos\n",
    "\n",
    "    def get_datos(self):\n",
    "        return self.datos\n",
    "\n",
    "    def set_costo(self, costo):\n",
    "        self.costo = costo\n",
    "\n",
    "    def get_costo(self):\n",
    "        return self.costo\n",
    "\n",
    "    def equal(self, nodo):\n",
    "        if self.get_datos() == nodo.get_datos():\n",
    "            return True\n",
    "        else:\n",
    "            return False\n",
    "\n",
    "    def en_lista(self, lista_nodos):\n",
    "        enlistado = False\n",
    "        for n in lista_nodos:\n",
    "            if self.equal(n):\n",
    "                enlistado = True\n",
    "        return enlistado\n",
    "\n",
    "    def __str__(self):\n",
    "        return str(self.get_datos())"
   ]
  },
  {
   "cell_type": "code",
   "execution_count": 2,
   "metadata": {},
   "outputs": [],
   "source": [
    "import random as rd\n",
    "#funcion comparar\n",
    "def Comparar(nodo):\n",
    "    return nodo.get_costo()"
   ]
  },
  {
   "cell_type": "code",
   "execution_count": 3,
   "metadata": {},
   "outputs": [],
   "source": [
    "def Busqueda(estado_inicio, estado_solucion):\n",
    "    resuelto = False\n",
    "    nodos_visitados = []\n",
    "    nodos_frontera = []\n",
    "    nodo_inicio = Nodo(estado_inicio)\n",
    "    nodo_inicio.set_costo(0)\n",
    "    nodos_frontera.append(nodo_inicio)"
   ]
  }
 ],
 "metadata": {
  "kernelspec": {
   "display_name": "Python 3.10.4 64-bit",
   "language": "python",
   "name": "python3"
  },
  "language_info": {
   "codemirror_mode": {
    "name": "ipython",
    "version": 3
   },
   "file_extension": ".py",
   "mimetype": "text/x-python",
   "name": "python",
   "nbconvert_exporter": "python",
   "pygments_lexer": "ipython3",
   "version": "3.10.4"
  },
  "orig_nbformat": 4,
  "vscode": {
   "interpreter": {
    "hash": "4fc575347efa219798fdc80e72f18537acafed02733d7815abe9dda575f05009"
   }
  }
 },
 "nbformat": 4,
 "nbformat_minor": 2
}
