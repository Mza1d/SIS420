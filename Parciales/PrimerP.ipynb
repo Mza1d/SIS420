{
 "cells": [
  {
   "cell_type": "code",
   "execution_count": 4,
   "metadata": {},
   "outputs": [],
   "source": [
    "class Nodo_WGC:\n",
    "    \"\"\"\n",
    "    LOBO = W\n",
    "    CABRA = G\n",
    "    LECHUGA = C\n",
    "    \"\"\"\n",
    "    incompatibilidades = [\n",
    "        [\"C\", \"G\", \"W\"]*2,\n",
    "        [\"G\", \"W\"],         #No\n",
    "        [\"C\", \"G\"]          #no\n",
    "    ]\n",
    "\n",
    "    def __init__(self, Oeste=[\"W\", \"G\", \"C\"], este=[], lado_barco=False, hijos=[]):\n",
    "        self.Oeste = Oeste\n",
    "        self.este = este\n",
    "        self.lado_barco = lado_barco\n",
    "        self.hijos = hijos\n",
    "\n",
    "    def __str__(self):\n",
    "        return str(self.Oeste) + str(self.este) + (\"Izquierda\" if not self.lado_barco else \"Derecha\")\n",
    "\n",
    "    def generar_hijos(self, estados_anteriores, mapa_principal):\n",
    "        hijos = []\n",
    "        if not self.lado_barco:\n",
    "            for i in self.Oeste:\n",
    "                nuevo_Oeste = self.Oeste[:] # hace [:] es seleccionar todos los elementos del array y lo asigna a uno nuevo\n",
    "                #print(\"Nuevo oestes\",nuevo_Oeste)\n",
    "                nuevo_Oeste.remove(i)\n",
    "                nuevo_este = self.este[:]\n",
    "                nuevo_este.append(i)\n",
    "                #print(\"este \",nuevo_este)\n",
    "                if sorted(nuevo_Oeste) not in Nodo_WGC.incompatibilidades and not Nodo_WGC.estado_en_anterior(estados_anteriores, nuevo_Oeste, nuevo_este, not self.lado_barco):\n",
    "                    Hijo = Nodo_WGC(nuevo_Oeste, nuevo_este, not self.lado_barco, [])\n",
    "                    hijos.append(Hijo)\n",
    "                    mapa_principal[Hijo] = self\n",
    "            if sorted(self.Oeste) not in Nodo_WGC.incompatibilidades and not Nodo_WGC.estado_en_anterior(estados_anteriores, self.Oeste[:], self.este[:], not self.lado_barco):\n",
    "                Hijo = Nodo_WGC(self.Oeste[:], self.este[:], not self.lado_barco, [])\n",
    "                hijos.append(Hijo)\n",
    "                mapa_principal[Hijo] = self\n",
    "        else:\n",
    "            for i in self.este:\n",
    "                nuevo_Oeste = self.Oeste[:]\n",
    "                nuevo_Oeste.append(i)\n",
    "                nuevo_este = self.este[:]\n",
    "                nuevo_este.remove(i)\n",
    "                if sorted(nuevo_este) not in Nodo_WGC.incompatibilidades and not Nodo_WGC.estado_en_anterior(estados_anteriores, nuevo_Oeste, nuevo_este, not self.lado_barco):\n",
    "                    Hijo = Nodo_WGC(nuevo_Oeste, nuevo_este, not self.lado_barco, [])\n",
    "                    hijos.append(Hijo)\n",
    "                    mapa_principal[Hijo] = self\n",
    "            if sorted(self.este) not in Nodo_WGC.incompatibilidades and not Nodo_WGC.estado_en_anterior(estados_anteriores, self.Oeste[:], self.este[:], not self.lado_barco):\n",
    "                Hijo = Nodo_WGC(self.Oeste[:], self.este[:], not self.lado_barco, [])\n",
    "                hijos.append(Hijo)\n",
    "                mapa_principal[Hijo] = self\n",
    "        self.hijos = hijos\n",
    "\n",
    "    \n",
    "    def estado_en_anterior(estados_anteriores, Oeste, este, lado_barco):\n",
    "        #any devuelve el booleano True si alguno de los elementos del iterable que se cede como argumento es True, y devuelve el booleano False\n",
    "        return any(\n",
    "            sorted(Oeste) == sorted(i.Oeste) and\n",
    "            sorted(este) == sorted(i.este) and\n",
    "            lado_barco == i.lado_barco\n",
    "            for i in estados_anteriores\n",
    "        )"
   ]
  },
  {
   "cell_type": "code",
   "execution_count": 5,
   "metadata": {},
   "outputs": [],
   "source": [
    "def encontrar_solucion(nodo_raiz, use_bfs=False):\n",
    "    '''\n",
    "    Encuentre una solución al problema WGC.\n",
    "    use_bfs: falso para DFS, verdadero para BFS\n",
    "    '''\n",
    "    visitar = [nodo_raiz]\n",
    "    nodo = nodo_raiz\n",
    "    estados_anteriores = []\n",
    "    mapa_principal = {nodo_raiz: None}\n",
    "    while visitar:\n",
    "        nodo = visitar.pop()\n",
    "        if not Nodo_WGC.estado_en_anterior(estados_anteriores, nodo.Oeste, nodo.este, nodo.lado_barco):\n",
    "            estados_anteriores.append(nodo)\n",
    "        nodo.generar_hijos(estados_anteriores, mapa_principal)\n",
    "        if use_bfs:\n",
    "            visitar = nodo.hijos + visitar\n",
    "        else:\n",
    "            visitar = visitar + nodo.hijos\n",
    "        if sorted(nodo.este) == [\"C\", \"G\", \"W\"]: #\"w\", \"g\", \"c\"\n",
    "            solucion = []\n",
    "            while nodo is not None:\n",
    "                solucion = [nodo] + solucion\n",
    "                nodo = mapa_principal[nodo]\n",
    "            return solucion\n",
    "    return None"
   ]
  },
  {
   "cell_type": "code",
   "execution_count": 6,
   "metadata": {},
   "outputs": [
    {
     "name": "stdout",
     "output_type": "stream",
     "text": [
      "\tSOLUCION\n",
      "Búsqueda primero en profundidad - DFS solucion\n",
      "\n",
      "[['W', 'G', 'C'][]Izquierda \n",
      ", ['W', 'C']['G']Derecha \n",
      ", ['W', 'C']['G']Izquierda \n",
      ", ['W']['G', 'C']Derecha \n",
      ", ['W', 'G']['C']Izquierda \n",
      ", ['G']['C', 'W']Derecha \n",
      ", ['G']['C', 'W']Izquierda \n",
      ", []['C', 'W', 'G']Derecha \n",
      ", ]\n",
      "\n",
      "\tSOLUCION\n",
      "Búsqueda primero en anchura - BFS solucion \n",
      "\n",
      "[['W', 'G', 'C'][]Izquierda \n",
      ", ['W', 'C']['G']Derecha \n",
      ", ['W', 'C']['G']Izquierda \n",
      ", ['W']['G', 'C']Derecha \n",
      ", ['W', 'G']['C']Izquierda \n",
      ", ['G']['C', 'W']Derecha \n",
      ", ['G']['C', 'W']Izquierda \n",
      ", []['C', 'W', 'G']Derecha \n",
      ", ]\n"
     ]
    }
   ],
   "source": [
    "if __name__ == \"__main__\":\n",
    "    raiz = Nodo_WGC()\n",
    "    solucion = encontrar_solucion(raiz, use_bfs=False)\n",
    "    print(\"\\tSOLUCION\\nBúsqueda primero en profundidad - DFS solucion\\n\\n[\", end='') #DFS desde el nodo padre hacia el nodo hijo\n",
    "    for i in solucion:\n",
    "        print(i, '\\n, ', end='')\n",
    "    print(\"]\")\n",
    "\n",
    "    solucion = encontrar_solucion(raiz, use_bfs=True)\n",
    "    #Busqueda sin información\n",
    "    print(\"\\n\\tSOLUCION\\nBúsqueda primero en anchura - BFS solucion \\n\\n[\", end='') #BFS explorar todos los vecinos de este nodo ->COLA\n",
    "    for i in solucion:\n",
    "        print(i, '\\n, ', end='')\n",
    "    print(\"]\")"
   ]
  },
  {
   "cell_type": "code",
   "execution_count": 15,
   "metadata": {},
   "outputs": [
    {
     "name": "stdout",
     "output_type": "stream",
     "text": [
      "6\n",
      "['W', 'G', 'L', 'W', 'G', 'L']\n",
      "['W', 'G', 'L', 'W', 'G']\n"
     ]
    }
   ],
   "source": [
    "a = (['W','G','L'])*2\n",
    "print(len(a))\n",
    "print(a)\n",
    "a.pop(5)\n",
    "print(a)"
   ]
  }
 ],
 "metadata": {
  "kernelspec": {
   "display_name": "Python 3.10.4 64-bit",
   "language": "python",
   "name": "python3"
  },
  "language_info": {
   "codemirror_mode": {
    "name": "ipython",
    "version": 3
   },
   "file_extension": ".py",
   "mimetype": "text/x-python",
   "name": "python",
   "nbconvert_exporter": "python",
   "pygments_lexer": "ipython3",
   "version": "3.10.4"
  },
  "orig_nbformat": 4,
  "vscode": {
   "interpreter": {
    "hash": "4fc575347efa219798fdc80e72f18537acafed02733d7815abe9dda575f05009"
   }
  }
 },
 "nbformat": 4,
 "nbformat_minor": 2
}
