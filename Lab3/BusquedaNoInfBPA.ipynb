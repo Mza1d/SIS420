{
 "cells": [
  {
   "cell_type": "code",
   "execution_count": 2,
   "metadata": {},
   "outputs": [],
   "source": [
    "class Nodo:\n",
    "    def __init__(self, datos, hijo=None):\n",
    "        self.datos = datos\n",
    "        self.hijos = []\n",
    "        self.padre = None\n",
    "        self.costo = None\n",
    "        self.set_hijo(hijo)\n",
    "        \n",
    "    def set_hijo(self, hijo):\n",
    "        if (hijo is not None):\n",
    "            self.hijos.append(hijo)\n",
    "            if self.hijos is not None:\n",
    "                for h in self.hijos:\n",
    "                    h.padre = self\n",
    "                \n",
    "    def get_hijos(self):\n",
    "        return self.hijos\n",
    "    \n",
    "    def set_padre(self, padre):\n",
    "        self.padre = padre\n",
    "        \n",
    "    def get_padre(self):\n",
    "        return self.padre\n",
    "\n",
    "    def set_datos(self, datos):\n",
    "        self.datos = datos\n",
    "    \n",
    "    def get_datos(self):\n",
    "        return self.datos\n",
    "    \n",
    "    def set_costo(self, costo):\n",
    "        self.costo = costo\n",
    "        \n",
    "    def get_costo(self):\n",
    "        return self.costo\n",
    "    \n",
    "    def equal(self, nodo):\n",
    "        if self.get_datos() == nodo.get_datos():\n",
    "            return True\n",
    "        else:\n",
    "            return False\n",
    "    \n",
    "    def en_lista(self, lista_nodos):\n",
    "        enlistado = False\n",
    "        for n in lista_nodos:\n",
    "            if self.equal(n):\n",
    "                enlistado = True\n",
    "        return enlistado\n",
    "    \n",
    "    def __str__(self):\n",
    "        return str(self.get_datos())"
   ]
  },
  {
   "cell_type": "code",
   "execution_count": 3,
   "metadata": {},
   "outputs": [],
   "source": [
    "def bpa(estado_inicio, estado_solucion, tipo):\n",
    "    resuelto = False\n",
    "    nodos_visitados = []\n",
    "    nodos_frontera = []\n",
    "    nodo_inicio = Nodo(estado_inicio)\n",
    "    nodos_frontera.append(nodo_inicio)\n",
    "\n",
    "    while resuelto == False and len(nodos_frontera) != 0:\n",
    "        # 1 para FIFO pop(0)\n",
    "        if tipo == 1:\n",
    "            nodo_actual = nodos_frontera.pop(0)\n",
    "        # 2 para LIFO pop()\n",
    "        elif tipo == 2:\n",
    "            nodo_actual = nodos_frontera.pop()\n",
    "        nodos_visitados.append(nodo_actual)\n",
    "        if nodo_actual.get_datos() == estado_solucion:\n",
    "            resuelto = True\n",
    "            return nodo_actual\n",
    "        else:\n",
    "            lista_hijos = nodos_hijos(nodo_actual)\n",
    "            for hijo in lista_hijos:\n",
    "                if not hijo.en_lista(nodos_visitados) and not hijo.en_lista(nodos_frontera):\n",
    "                    nodo_actual.set_hijo(hijo)\n",
    "                    nodos_frontera.append(hijo)"
   ]
  },
  {
   "cell_type": "code",
   "execution_count": 4,
   "metadata": {},
   "outputs": [],
   "source": [
    "def nodos_hijos(nodo):\n",
    "    hijos = []\n",
    "    n = len(nodo.get_datos())\n",
    "    i = 0\n",
    "    #Para cantidad de numeros\n",
    "    while i < n-1:\n",
    "        hijo_datos = nodo.get_datos().copy()\n",
    "        temp = hijo_datos[i]\n",
    "        hijo_datos[i] = hijo_datos[i+1]\n",
    "        hijo_datos[i+1] = temp\n",
    "        hijo = Nodo(hijo_datos)\n",
    "        nodo.set_hijo(hijo)\n",
    "        hijos.append(hijo)\n",
    "        i += 1\n",
    "    return hijos"
   ]
  },
  {
   "cell_type": "code",
   "execution_count": 7,
   "metadata": {},
   "outputs": [
    {
     "name": "stdout",
     "output_type": "stream",
     "text": [
      "\n",
      "-------- SOL. LIFO ---------\n",
      "[[7, 6, 5, 4, 3, 2, 1], [7, 6, 5, 4, 3, 1, 2], [7, 6, 5, 4, 1, 3, 2], [7, 6, 5, 4, 1, 2, 3], [7, 6, 5, 4, 2, 1, 3], [7, 6, 5, 2, 4, 1, 3], [7, 6, 5, 2, 4, 3, 1], [7, 6, 5, 2, 3, 4, 1], [7, 6, 5, 2, 3, 1, 4], [7, 6, 5, 2, 1, 3, 4], [7, 6, 5, 1, 2, 3, 4], [7, 6, 5, 1, 2, 4, 3], [7, 6, 1, 5, 2, 4, 3], [7, 6, 1, 5, 4, 2, 3], [7, 6, 1, 5, 4, 3, 2], [7, 6, 1, 5, 3, 4, 2], [7, 6, 1, 5, 3, 2, 4], [7, 6, 1, 3, 5, 2, 4], [7, 6, 1, 3, 2, 5, 4], [7, 6, 1, 3, 2, 4, 5], [7, 6, 1, 3, 4, 2, 5], [7, 6, 1, 3, 4, 5, 2], [7, 6, 1, 4, 3, 5, 2], [7, 6, 4, 1, 3, 5, 2], [7, 6, 4, 1, 3, 2, 5], [7, 6, 4, 1, 2, 3, 5], [7, 6, 4, 1, 2, 5, 3], [7, 6, 4, 1, 5, 2, 3], [7, 4, 6, 1, 5, 2, 3], [7, 4, 6, 1, 5, 3, 2], [7, 4, 6, 5, 1, 3, 2], [7, 4, 6, 5, 3, 1, 2], [7, 4, 6, 5, 3, 2, 1], [7, 4, 6, 5, 2, 3, 1], [7, 4, 6, 5, 2, 1, 3], [7, 4, 6, 2, 5, 1, 3], [7, 4, 6, 2, 1, 5, 3], [7, 4, 6, 2, 1, 3, 5], [7, 4, 6, 2, 3, 1, 5], [7, 4, 6, 2, 3, 5, 1], [7, 4, 6, 3, 2, 5, 1], [7, 4, 3, 6, 2, 5, 1], [7, 4, 3, 6, 2, 1, 5], [7, 4, 3, 6, 1, 2, 5], [7, 4, 3, 6, 1, 5, 2], [7, 4, 3, 6, 5, 1, 2], [7, 4, 3, 5, 6, 1, 2], [7, 4, 3, 5, 6, 2, 1], [7, 4, 3, 5, 2, 6, 1], [7, 4, 3, 5, 2, 1, 6], [7, 4, 3, 5, 1, 2, 6], [7, 4, 3, 1, 5, 2, 6], [7, 4, 3, 1, 5, 6, 2], [7, 4, 1, 3, 5, 6, 2], [7, 4, 1, 3, 6, 5, 2], [7, 4, 1, 3, 6, 2, 5], [7, 4, 1, 3, 2, 6, 5], [7, 4, 1, 3, 2, 5, 6], [7, 4, 1, 2, 3, 5, 6], [7, 4, 1, 2, 5, 3, 6], [7, 4, 1, 2, 5, 6, 3], [7, 4, 1, 2, 6, 5, 3], [7, 4, 1, 2, 6, 3, 5], [7, 4, 1, 6, 2, 3, 5], [7, 1, 4, 6, 2, 3, 5], [7, 1, 4, 6, 2, 5, 3], [7, 1, 4, 6, 5, 2, 3], [7, 1, 4, 6, 5, 3, 2], [7, 1, 4, 6, 3, 5, 2], [1, 7, 4, 6, 3, 5, 2], [1, 7, 4, 6, 3, 2, 5], [1, 7, 4, 3, 6, 2, 5], [1, 7, 4, 3, 2, 6, 5], [1, 7, 4, 3, 2, 5, 6], [1, 7, 4, 3, 5, 2, 6], [1, 7, 4, 3, 5, 6, 2], [1, 7, 4, 5, 3, 6, 2], [1, 7, 4, 5, 6, 3, 2], [1, 7, 4, 5, 6, 2, 3], [1, 7, 4, 5, 2, 6, 3], [1, 7, 4, 5, 2, 3, 6], [1, 7, 4, 2, 5, 3, 6], [1, 7, 2, 4, 5, 3, 6], [1, 7, 2, 4, 5, 6, 3], [1, 7, 2, 4, 6, 5, 3], [1, 7, 2, 4, 6, 3, 5], [1, 7, 2, 4, 3, 6, 5], [1, 7, 2, 3, 4, 6, 5], [1, 7, 2, 3, 4, 5, 6], [1, 7, 2, 3, 5, 4, 6], [1, 7, 2, 3, 5, 6, 4], [1, 7, 2, 3, 6, 5, 4], [1, 7, 2, 6, 3, 5, 4], [1, 7, 2, 6, 3, 4, 5], [1, 7, 6, 2, 3, 4, 5], [1, 7, 6, 2, 4, 3, 5], [1, 7, 6, 2, 4, 5, 3], [1, 7, 6, 2, 5, 4, 3], [1, 7, 6, 2, 5, 3, 4], [1, 7, 6, 5, 2, 3, 4], [1, 7, 6, 5, 3, 2, 4], [1, 7, 6, 5, 3, 4, 2], [1, 7, 6, 5, 4, 3, 2], [1, 7, 6, 5, 4, 2, 3], [1, 7, 6, 4, 5, 2, 3], [1, 6, 7, 4, 5, 2, 3], [1, 6, 7, 4, 5, 3, 2], [1, 6, 7, 4, 3, 5, 2], [1, 6, 7, 4, 3, 2, 5], [1, 6, 7, 4, 2, 3, 5], [1, 6, 4, 7, 2, 3, 5], [1, 6, 4, 7, 2, 5, 3], [1, 6, 4, 2, 7, 5, 3], [1, 6, 4, 2, 5, 7, 3], [1, 6, 4, 2, 5, 3, 7], [1, 6, 4, 2, 3, 5, 7], [1, 6, 4, 2, 3, 7, 5], [1, 6, 4, 3, 2, 7, 5], [1, 6, 4, 3, 7, 2, 5], [1, 6, 4, 3, 7, 5, 2], [1, 6, 4, 3, 5, 7, 2], [1, 6, 4, 3, 5, 2, 7], [1, 6, 4, 5, 3, 2, 7], [1, 6, 5, 4, 3, 2, 7], [1, 6, 5, 4, 3, 7, 2], [1, 6, 5, 4, 7, 3, 2], [1, 6, 5, 4, 7, 2, 3], [1, 6, 5, 4, 2, 7, 3], [1, 6, 5, 2, 4, 7, 3], [1, 6, 5, 2, 4, 3, 7], [1, 6, 5, 2, 3, 4, 7], [1, 6, 5, 2, 3, 7, 4], [1, 6, 5, 2, 7, 3, 4], [1, 6, 5, 7, 2, 3, 4], [1, 6, 5, 7, 2, 4, 3], [1, 6, 7, 5, 2, 4, 3], [6, 1, 7, 5, 2, 4, 3], [6, 1, 7, 5, 2, 3, 4], [6, 1, 7, 5, 3, 2, 4], [6, 1, 7, 5, 3, 4, 2], [6, 1, 7, 5, 4, 3, 2], [6, 1, 5, 7, 4, 3, 2], [6, 1, 5, 7, 4, 2, 3], [6, 5, 1, 7, 4, 2, 3], [6, 5, 1, 7, 2, 4, 3], [6, 5, 1, 7, 2, 3, 4], [6, 5, 1, 7, 3, 2, 4], [6, 5, 1, 7, 3, 4, 2], [6, 5, 1, 3, 7, 4, 2], [6, 5, 1, 3, 4, 7, 2], [6, 5, 1, 3, 4, 2, 7], [6, 5, 1, 3, 2, 4, 7], [6, 5, 1, 3, 2, 7, 4], [6, 5, 1, 2, 3, 7, 4], [6, 5, 2, 1, 3, 7, 4], [6, 5, 2, 1, 3, 4, 7], [6, 5, 2, 1, 4, 3, 7], [6, 5, 2, 1, 4, 7, 3], [6, 5, 2, 1, 7, 4, 3], [6, 5, 2, 7, 1, 4, 3], [6, 5, 2, 7, 1, 3, 4], [6, 5, 2, 7, 3, 1, 4], [6, 5, 2, 7, 3, 4, 1], [6, 5, 2, 7, 4, 3, 1], [6, 5, 2, 4, 7, 3, 1], [6, 5, 2, 4, 7, 1, 3], [6, 5, 4, 2, 7, 1, 3], [6, 5, 4, 2, 1, 7, 3], [6, 5, 4, 2, 1, 3, 7], [6, 5, 4, 2, 3, 1, 7], [6, 5, 4, 2, 3, 7, 1], [6, 5, 4, 3, 2, 7, 1], [6, 5, 4, 3, 7, 2, 1], [6, 5, 4, 3, 7, 1, 2], [6, 5, 4, 3, 1, 7, 2], [6, 5, 4, 3, 1, 2, 7], [6, 5, 4, 1, 3, 2, 7], [6, 4, 5, 1, 3, 2, 7], [6, 4, 5, 1, 3, 7, 2], [6, 4, 5, 1, 7, 3, 2], [6, 4, 5, 1, 7, 2, 3], [6, 4, 5, 1, 2, 7, 3], [6, 4, 1, 5, 2, 7, 3], [6, 4, 1, 5, 2, 3, 7], [6, 4, 1, 2, 5, 3, 7], [6, 4, 1, 2, 3, 5, 7], [6, 4, 1, 2, 3, 7, 5], [6, 4, 1, 2, 7, 3, 5], [6, 4, 1, 2, 7, 5, 3], [6, 4, 1, 7, 2, 5, 3], [6, 4, 1, 7, 5, 2, 3], [6, 4, 1, 7, 5, 3, 2], [6, 4, 1, 7, 3, 5, 2], [6, 4, 1, 7, 3, 2, 5], [6, 4, 1, 3, 7, 2, 5], [6, 4, 3, 1, 7, 2, 5], [6, 4, 3, 1, 7, 5, 2], [6, 4, 3, 1, 5, 7, 2], [6, 4, 3, 1, 5, 2, 7], [6, 4, 3, 1, 2, 5, 7], [6, 4, 3, 2, 1, 5, 7], [6, 4, 3, 2, 1, 7, 5], [6, 4, 3, 2, 7, 1, 5], [6, 4, 3, 2, 7, 5, 1], [6, 4, 3, 2, 5, 7, 1], [6, 4, 3, 5, 2, 7, 1], [6, 4, 3, 5, 2, 1, 7], [6, 4, 5, 3, 2, 1, 7], [4, 6, 5, 3, 2, 1, 7], [4, 6, 5, 3, 2, 7, 1], [4, 6, 5, 3, 7, 2, 1], [4, 6, 5, 3, 7, 1, 2], [4, 6, 5, 3, 1, 7, 2], [4, 6, 3, 5, 1, 7, 2], [4, 6, 3, 5, 1, 2, 7], [4, 3, 6, 5, 1, 2, 7], [4, 3, 6, 5, 2, 1, 7], [4, 3, 6, 5, 2, 7, 1], [4, 3, 6, 5, 7, 2, 1], [4, 3, 6, 5, 7, 1, 2], [4, 3, 6, 7, 5, 1, 2], [4, 3, 6, 7, 1, 5, 2], [4, 3, 6, 7, 1, 2, 5], [4, 3, 6, 7, 2, 1, 5], [4, 3, 6, 7, 2, 5, 1], [4, 3, 6, 2, 7, 5, 1], [4, 3, 2, 6, 7, 5, 1], [4, 3, 2, 6, 7, 1, 5], [4, 3, 2, 6, 1, 7, 5], [4, 3, 2, 6, 1, 5, 7], [4, 3, 2, 6, 5, 1, 7], [4, 3, 2, 5, 6, 1, 7], [4, 3, 2, 5, 6, 7, 1], [4, 3, 2, 5, 7, 6, 1], [4, 3, 2, 5, 7, 1, 6], [4, 3, 2, 5, 1, 7, 6], [4, 3, 2, 1, 5, 7, 6], [4, 3, 2, 1, 5, 6, 7], [4, 3, 1, 2, 5, 6, 7], [4, 3, 1, 2, 6, 5, 7], [4, 3, 1, 2, 6, 7, 5], [4, 3, 1, 2, 7, 6, 5], [4, 3, 1, 2, 7, 5, 6], [4, 3, 1, 7, 2, 5, 6], [4, 3, 1, 7, 5, 2, 6], [4, 3, 1, 7, 5, 6, 2], [4, 3, 1, 7, 6, 5, 2], [4, 3, 1, 7, 6, 2, 5], [4, 3, 1, 6, 7, 2, 5], [4, 1, 3, 6, 7, 2, 5], [4, 1, 3, 6, 7, 5, 2], [4, 1, 3, 6, 5, 7, 2], [4, 1, 3, 6, 5, 2, 7], [4, 1, 3, 6, 2, 5, 7], [4, 1, 6, 3, 2, 5, 7], [4, 1, 6, 3, 2, 7, 5], [4, 1, 6, 2, 3, 7, 5], [4, 1, 6, 2, 7, 3, 5], [4, 1, 6, 2, 7, 5, 3], [4, 1, 6, 2, 5, 7, 3], [4, 1, 6, 2, 5, 3, 7], [4, 1, 6, 5, 2, 3, 7], [4, 1, 6, 5, 3, 2, 7], [4, 1, 6, 5, 3, 7, 2], [4, 1, 6, 5, 7, 3, 2], [4, 1, 6, 5, 7, 2, 3], [4, 1, 6, 7, 5, 2, 3], [4, 1, 7, 6, 5, 2, 3], [4, 1, 7, 6, 5, 3, 2], [4, 1, 7, 6, 3, 5, 2], [4, 1, 7, 6, 3, 2, 5], [4, 1, 7, 6, 2, 3, 5], [4, 1, 7, 2, 6, 3, 5], [4, 1, 7, 2, 6, 5, 3], [4, 1, 7, 2, 5, 6, 3], [4, 1, 7, 2, 5, 3, 6], [4, 1, 7, 2, 3, 5, 6], [4, 1, 7, 3, 2, 5, 6], [4, 1, 7, 3, 2, 6, 5], [4, 1, 3, 7, 2, 6, 5], [1, 4, 3, 7, 2, 6, 5], [1, 4, 3, 7, 2, 5, 6], [1, 4, 3, 7, 5, 2, 6], [1, 4, 3, 7, 5, 6, 2], [1, 4, 3, 7, 6, 5, 2], [1, 3, 4, 7, 6, 5, 2], [1, 3, 4, 7, 6, 2, 5], [1, 3, 4, 6, 7, 2, 5], [1, 3, 4, 6, 2, 7, 5], [1, 3, 4, 6, 2, 5, 7], [1, 3, 4, 6, 5, 2, 7], [1, 3, 4, 6, 5, 7, 2], [1, 3, 4, 5, 6, 7, 2], [1, 3, 4, 5, 7, 6, 2], [1, 3, 4, 5, 7, 2, 6], [1, 3, 4, 5, 2, 7, 6], [1, 3, 4, 5, 2, 6, 7], [1, 3, 4, 2, 5, 6, 7], [1, 3, 2, 4, 5, 6, 7], [1, 2, 3, 4, 5, 6, 7]]\n"
     ]
    }
   ],
   "source": [
    "import time\n",
    "if __name__ == \"__main__\":\n",
    "    estado_inicial = [7, 6, 5, 4, 3, 2, 1]\n",
    "    solucion = [1, 2, 3, 4, 5, 6, 7]\n",
    "    tipoD = int(input(\"Seleccion una una de las opciones\\n1: FIFO\\n2: LIFO\"))\n",
    "    if tipoD == 1:\n",
    "        nodo_solucion = bpa(estado_inicial, solucion, tipoD)\n",
    "        # mostrar resultado\n",
    "        resultado = []\n",
    "        nodo_actual = nodo_solucion\n",
    "        while nodo_actual.get_padre() is not None:\n",
    "            resultado.append(nodo_actual.get_datos())\n",
    "            nodo_actual = nodo_actual.get_padre()\n",
    "        resultado.append(estado_inicial)\n",
    "        resultado.reverse()\n",
    "        print(\"--------- SOL. FIFO ----------\")\n",
    "        print(resultado)\n",
    "    elif tipoD == 2:\n",
    "        print(\"\\n-------- SOL. LIFO ---------\")\n",
    "        nodo_solucion = bpa(estado_inicial, solucion, tipoD)\n",
    "        resultado = []\n",
    "        nodo_actual = nodo_solucion\n",
    "        while nodo_actual.get_padre() is not None:\n",
    "            resultado.append(nodo_actual.get_datos())\n",
    "            nodo_actual = nodo_actual.get_padre()\n",
    "\n",
    "        resultado.append(estado_inicial)\n",
    "        resultado.reverse()\n",
    "        print(resultado)"
   ]
  },
  {
   "cell_type": "code",
   "execution_count": null,
   "metadata": {},
   "outputs": [],
   "source": [
    "#TIEMPO DE EJECUCIÓN \n",
    "#El tiempo para los numeros 1,2,3,4 es de 0.1s\n",
    "#El tiempo para los numeros 1,2,3,4,5 es de 0.2s\n",
    "#El tiempo para los numeros 1,2,3,4,5,6,7 es de 1 min 40s\n",
    "# A partir de 8 numeros en adelante la busqueda requiere mas tiempo y tambien depende del procesador de la máquina\n",
    "# Para solucionar el problema de ejecucion, se tendría que trabajar con la Heuristicas"
   ]
  }
 ],
 "metadata": {
  "kernelspec": {
   "display_name": "Python 3.10.4 64-bit",
   "language": "python",
   "name": "python3"
  },
  "language_info": {
   "codemirror_mode": {
    "name": "ipython",
    "version": 3
   },
   "file_extension": ".py",
   "mimetype": "text/x-python",
   "name": "python",
   "nbconvert_exporter": "python",
   "pygments_lexer": "ipython3",
   "version": "3.10.4"
  },
  "orig_nbformat": 4,
  "vscode": {
   "interpreter": {
    "hash": "4fc575347efa219798fdc80e72f18537acafed02733d7815abe9dda575f05009"
   }
  }
 },
 "nbformat": 4,
 "nbformat_minor": 2
}
